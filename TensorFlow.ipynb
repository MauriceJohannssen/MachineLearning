{
 "cells": [
  {
   "cell_type": "markdown",
   "id": "79c6bf8a-84db-4bc6-9fc9-4aacb6ca4a57",
   "metadata": {
    "tags": []
   },
   "source": [
    "# Machine Learning with TensorFlow"
   ]
  },
  {
   "cell_type": "markdown",
   "id": "a3dbeac7-c91b-4e82-a4dc-7aac5d74f4e1",
   "metadata": {},
   "source": [
    "## Tensors"
   ]
  },
  {
   "cell_type": "code",
   "execution_count": 1,
   "id": "843db385-3877-41bd-8069-03e83d646700",
   "metadata": {
    "tags": []
   },
   "outputs": [
    {
     "name": "stdout",
     "output_type": "stream",
     "text": [
      "<module 'tensorflow._api.v2.version' from 'C:\\\\Users\\\\Mauri\\\\Repositories\\\\MachineLearning\\\\env\\\\lib\\\\site-packages\\\\tensorflow\\\\_api\\\\v2\\\\version\\\\__init__.py'>\n"
     ]
    }
   ],
   "source": [
    "import tensorflow as tf\n",
    "print(tf.version)\n",
    "import tensorflow.compat.v2.feature_column\n",
    "import numpy as np\n",
    "import pandas as pd\n",
    "import matplotlib.pyplot as plt\n",
    "from IPython.display import clear_output\n",
    "from six.moves import urllib\n",
    "from random import randrange"
   ]
  },
  {
   "cell_type": "markdown",
   "id": "006ace0f-39be-4671-9045-c97bc76b99f4",
   "metadata": {
    "tags": []
   },
   "source": [
    "### Tensor rank and shape\n",
    "\n",
    "Tensors can have rank 0-n (basically refers to the dimensions). <br>\n",
    "Tensors' shape is the amount of elements/data in the tensors. <br>\n",
    "* Shapes can be reshaped."
   ]
  },
  {
   "cell_type": "code",
   "execution_count": 2,
   "id": "2e36b4b6-46c5-43f8-bea7-5b58884ec4be",
   "metadata": {},
   "outputs": [],
   "source": [
    "#Declare and initialize tensors\n",
    "rank0_tensor = tf.Variable(9, tf.int16)\n",
    "rank1_tensor = tf.Variable([1,2,3], tf.float64)\n",
    "rank2_tensor = tf.Variable([[1,2,3], [4,5,6]], tf.int16)\n",
    "rank3_tensor = tf.Variable([[[1,2,3],[4,5,6]],[[7,8,9],[10,11,12]]])"
   ]
  },
  {
   "cell_type": "code",
   "execution_count": 3,
   "id": "a45ff296-491a-4390-aad1-0eb7d47fb05c",
   "metadata": {},
   "outputs": [
    {
     "data": {
      "text/plain": [
       "TensorShape([2, 2, 3])"
      ]
     },
     "execution_count": 3,
     "metadata": {},
     "output_type": "execute_result"
    }
   ],
   "source": [
    "#Get rank of tensor\n",
    "tf.rank(rank1_tensor)\n",
    "\n",
    "#Get shape of tensor\n",
    "rank1_tensor.shape\n",
    "rank2_tensor.shape\n",
    "rank3_tensor.shape"
   ]
  },
  {
   "cell_type": "code",
   "execution_count": 4,
   "id": "13a2050a-6461-4d28-be5e-75b9bc0ed43f",
   "metadata": {},
   "outputs": [
    {
     "name": "stdout",
     "output_type": "stream",
     "text": [
      "tf.Tensor([1. 1. 1. 1. 1. 1.], shape=(6,), dtype=float32)\n"
     ]
    },
    {
     "data": {
      "text/plain": [
       "<tf.Tensor: shape=(), dtype=int32, numpy=1>"
      ]
     },
     "execution_count": 4,
     "metadata": {},
     "output_type": "execute_result"
    }
   ],
   "source": [
    "#Reshape tensors\n",
    "\n",
    "#Will create tensor with given shape with all 1\n",
    "#tf.zeros also exits\n",
    "oneTensor = tf.ones([2,3])\n",
    "#print(oneTensor)\n",
    "\n",
    "#Reshape\n",
    "#-1 lets TensorFlow infer the dimension for that value\n",
    "oneTensor = tf.reshape(oneTensor, [6])\n",
    "print(oneTensor)\n",
    "tf.rank(oneTensor)"
   ]
  },
  {
   "cell_type": "markdown",
   "id": "e01f9c22-2f6a-41de-8816-2e3a5151d60a",
   "metadata": {},
   "source": [
    "### Tensor types\n",
    "All tensor type are immutable except for \"Variable\". Availabe tensor types are: <br>\n",
    "* Variable\n",
    "* Constant\n",
    "* Placeholder\n",
    "* SparseTensor"
   ]
  },
  {
   "cell_type": "markdown",
   "id": "33ac92e7-584f-47af-8e3f-d23130a05952",
   "metadata": {},
   "source": [
    "### Evaluating tensors\n",
    "Create session. <br>\n",
    "The code evaluates the tensor variable that is stored in the default graph. The default graph holds all operations not specified to another graph. It is possible to create own seperate graphs."
   ]
  },
  {
   "cell_type": "code",
   "execution_count": 5,
   "id": "256b5b9c-9128-46dc-8fe0-fb472d52f4e4",
   "metadata": {},
   "outputs": [],
   "source": [
    "#with tf.Session() as session: #this uses the default graph\n",
    "    # oneTensor.eval() #tensor to evaluate"
   ]
  },
  {
   "cell_type": "markdown",
   "id": "9c173740-7a36-4756-91d5-50a66f0a7c07",
   "metadata": {},
   "source": [
    "## TensorFlow's Core Learning Algorithms"
   ]
  },
  {
   "cell_type": "markdown",
   "id": "4c12280f-a719-43e2-83ac-1db403fb8f2a",
   "metadata": {},
   "source": [
    "### Linear Regression\n",
    "Creates a line of best fit through a scatter plot of data\n",
    "points that best expresses the relationship between those points. <br>\n",
    "This can be done in any kind of dimensions. <br>\n",
    "\n",
    "Feature columns are columns that contain the unique data, either categorical or numerical, per column of input data.\n",
    "\n",
    "Epochs are the times the model re-evaluates data and thus learns from it.\n",
    "\n",
    "Overfitting occurs when the same data is feed to the model too much, data is almost memorized which degrades future predictions.\n",
    "\n",
    "Batches are used to feed smaller amounts to the model."
   ]
  },
  {
   "cell_type": "markdown",
   "id": "163a39c3-a456-4de4-af7b-ccaa73025f97",
   "metadata": {},
   "source": [
    "Data from: https://www.kaggle.com/uciml/pima-indians-diabetes-database"
   ]
  },
  {
   "cell_type": "code",
   "execution_count": 6,
   "id": "0159594d-9cb5-4a1a-94e3-4fe0f1612e89",
   "metadata": {},
   "outputs": [
    {
     "data": {
      "text/html": [
       "<div>\n",
       "<style scoped>\n",
       "    .dataframe tbody tr th:only-of-type {\n",
       "        vertical-align: middle;\n",
       "    }\n",
       "\n",
       "    .dataframe tbody tr th {\n",
       "        vertical-align: top;\n",
       "    }\n",
       "\n",
       "    .dataframe thead th {\n",
       "        text-align: right;\n",
       "    }\n",
       "</style>\n",
       "<table border=\"1\" class=\"dataframe\">\n",
       "  <thead>\n",
       "    <tr style=\"text-align: right;\">\n",
       "      <th></th>\n",
       "      <th>Pregnancies</th>\n",
       "      <th>Glucose</th>\n",
       "      <th>BloodPressure</th>\n",
       "      <th>BMI</th>\n",
       "      <th>DiabetesPedigreeFunction</th>\n",
       "      <th>Age</th>\n",
       "    </tr>\n",
       "  </thead>\n",
       "  <tbody>\n",
       "    <tr>\n",
       "      <th>0</th>\n",
       "      <td>6</td>\n",
       "      <td>148</td>\n",
       "      <td>72</td>\n",
       "      <td>33.6</td>\n",
       "      <td>0.627</td>\n",
       "      <td>50</td>\n",
       "    </tr>\n",
       "    <tr>\n",
       "      <th>1</th>\n",
       "      <td>1</td>\n",
       "      <td>85</td>\n",
       "      <td>66</td>\n",
       "      <td>26.6</td>\n",
       "      <td>0.351</td>\n",
       "      <td>31</td>\n",
       "    </tr>\n",
       "    <tr>\n",
       "      <th>2</th>\n",
       "      <td>8</td>\n",
       "      <td>183</td>\n",
       "      <td>64</td>\n",
       "      <td>23.3</td>\n",
       "      <td>0.672</td>\n",
       "      <td>32</td>\n",
       "    </tr>\n",
       "    <tr>\n",
       "      <th>3</th>\n",
       "      <td>1</td>\n",
       "      <td>89</td>\n",
       "      <td>66</td>\n",
       "      <td>28.1</td>\n",
       "      <td>0.167</td>\n",
       "      <td>21</td>\n",
       "    </tr>\n",
       "    <tr>\n",
       "      <th>4</th>\n",
       "      <td>0</td>\n",
       "      <td>137</td>\n",
       "      <td>40</td>\n",
       "      <td>43.1</td>\n",
       "      <td>2.288</td>\n",
       "      <td>33</td>\n",
       "    </tr>\n",
       "  </tbody>\n",
       "</table>\n",
       "</div>"
      ],
      "text/plain": [
       "   Pregnancies  Glucose  BloodPressure   BMI  DiabetesPedigreeFunction  Age\n",
       "0            6      148             72  33.6                     0.627   50\n",
       "1            1       85             66  26.6                     0.351   31\n",
       "2            8      183             64  23.3                     0.672   32\n",
       "3            1       89             66  28.1                     0.167   21\n",
       "4            0      137             40  43.1                     2.288   33"
      ]
     },
     "execution_count": 6,
     "metadata": {},
     "output_type": "execute_result"
    }
   ],
   "source": [
    "#Load data\n",
    "dfTrain = pd.read_csv('CSV_Data/diabetes_train.csv')\n",
    "dfTrain.pop('SkinThickness')\n",
    "dfTrain.pop('Insulin')\n",
    "dfEvaluate = pd.read_csv('CSV_Data/diabetes_eval.csv')\n",
    "dfEvaluate.pop('SkinThickness')\n",
    "dfEvaluate.pop('Insulin')\n",
    "y_train = dfTrain.pop('Outcome')\n",
    "y_evaluate = dfEvaluate.pop('Outcome')\n",
    "\n",
    "#Just list\n",
    "#y_train.head()\n",
    "dfTrain.head()\n",
    "\n",
    "#Statistical\n",
    "#dfTrain.describe()\n",
    "\n",
    "#dfTrain.shape"
   ]
  },
  {
   "cell_type": "markdown",
   "id": "5e63a7f2-de58-498d-97ae-e0f512dc999c",
   "metadata": {},
   "source": [
    "Visuals can also be created."
   ]
  },
  {
   "cell_type": "code",
   "execution_count": 7,
   "id": "e0a74722-44d9-4e96-8c74-c06563f924f9",
   "metadata": {},
   "outputs": [
    {
     "data": {
      "text/plain": [
       "<AxesSubplot:>"
      ]
     },
     "execution_count": 7,
     "metadata": {},
     "output_type": "execute_result"
    },
    {
     "data": {
      "image/png": "[encoded data removed]",
      "text/plain": [
       "<Figure size 432x288 with 1 Axes>"
      ]
     },
     "metadata": {
      "needs_background": "light"
     },
     "output_type": "display_data"
    }
   ],
   "source": [
    "dfTrain.BMI.hist(bins=20)"
   ]
  },
  {
   "cell_type": "code",
   "execution_count": 8,
   "id": "635fb55c-241d-45ee-b9b1-b5ffd3ae1630",
   "metadata": {},
   "outputs": [
    {
     "data": {
      "text/plain": [
       "<AxesSubplot:>"
      ]
     },
     "execution_count": 8,
     "metadata": {},
     "output_type": "execute_result"
    },
    {
     "data": {
      "image/png": "[encoded data removed]",
      "text/plain": [
       "<Figure size 1440x1440 with 1 Axes>"
      ]
     },
     "metadata": {
      "needs_background": "light"
     },
     "output_type": "display_data"
    }
   ],
   "source": [
    "dfTrain.Age.value_counts().plot(kind='barh', figsize=(20,20))"
   ]
  },
  {
   "cell_type": "code",
   "execution_count": 9,
   "id": "aeb6c378-6766-4621-b777-3dd379f7a463",
   "metadata": {},
   "outputs": [
    {
     "data": {
      "text/plain": [
       "Text(0.5, 0, '% high blood pressure')"
      ]
     },
     "execution_count": 9,
     "metadata": {},
     "output_type": "execute_result"
    },
    {
     "data": {
      "image/png": "[encoded data removed]",
      "text/plain": [
       "<Figure size 432x288 with 1 Axes>"
      ]
     },
     "metadata": {
      "needs_background": "light"
     },
     "output_type": "display_data"
    }
   ],
   "source": [
    "pd.concat([dfTrain, y_train], axis=1).groupby('Pregnancies').Outcome.mean().plot(kind='barh').set_xlabel('% high blood pressure')"
   ]
  },
  {
   "cell_type": "markdown",
   "id": "81f0dcad-2397-483c-8a1a-f5424b3a784b",
   "metadata": {
    "tags": []
   },
   "source": [
    "Input functions are special functions that describe how data is fed into the model during the training process e.g. epochs, batch size etc.\n",
    "\n",
    "The tensor flow model expects data to be a \"tf.data.Dataset\" object."
   ]
  },
  {
   "cell_type": "code",
   "execution_count": 130,
   "id": "e55e398d-3076-43d9-b12c-207f3541344c",
   "metadata": {},
   "outputs": [],
   "source": [
    "def CreateInputFunction(dataDataFrame, labelDataFrame, numEpochs=27, shuffle=True, batchSize=32):\n",
    "    def InputFunction():\n",
    "        #tf.data.Dataset object creation\n",
    "        dataSet = tf.data.Dataset.from_tensor_slices((dict(dataDataFrame), labelDataFrame))\n",
    "        if shuffle:\n",
    "            dataSet = dataSet.shuffle(1000)\n",
    "        dataSet = dataSet.batch(batchSize).repeat(numEpochs)\n",
    "        return dataSet\n",
    "    return InputFunction\n",
    "\n",
    "trainInputFunction = CreateInputFunction(dfTrain, y_train)\n",
    "evaluationInputFunction = CreateInputFunction(dfEvaluate, y_evaluate)\n"
   ]
  },
  {
   "cell_type": "code",
   "execution_count": 131,
   "id": "c8daf5e0-574d-419c-8293-2e6698e60486",
   "metadata": {},
   "outputs": [
    {
     "name": "stdout",
     "output_type": "stream",
     "text": [
      "Pregnancies\n",
      "Glucose\n",
      "BloodPressure\n",
      "BMI\n",
      "DiabetesPedigreeFunction\n",
      "Age\n"
     ]
    }
   ],
   "source": [
    "#Create feature columns\n",
    "for col in dfTrain.columns:\n",
    "    print(col)\n",
    "    \n",
    "featureColumns = []\n",
    "for col in dfTrain.columns:\n",
    "    featureColumns.append(tf.feature_column.numeric_column(col, dtype=tf.float32))"
   ]
  },
  {
   "cell_type": "code",
   "execution_count": 132,
   "id": "e405df4e-a45f-47b4-97d5-2c03213a56c5",
   "metadata": {
    "tags": []
   },
   "outputs": [
    {
     "name": "stdout",
     "output_type": "stream",
     "text": [
      "0.66101694\n"
     ]
    }
   ],
   "source": [
    "#Model creation\n",
    "linearEstimator = tf.estimator.LinearClassifier(feature_columns=featureColumns)\n",
    "\n",
    "#Model training\n",
    "linearEstimator.train(trainInputFunction)\n",
    "result = linearEstimator.evaluate(evaluationInputFunction)\n",
    "\n",
    "clear_output()\n",
    "print(result['accuracy'])"
   ]
  },
  {
   "cell_type": "code",
   "execution_count": 163,
   "id": "070af3c4-ab91-46a9-b97a-9d0998bc1c70",
   "metadata": {
    "tags": []
   },
   "outputs": [
    {
     "name": "stdout",
     "output_type": "stream",
     "text": [
      "INFO:tensorflow:Calling model_fn.\n",
      "INFO:tensorflow:Done calling model_fn.\n",
      "INFO:tensorflow:Graph was finalized.\n",
      "INFO:tensorflow:Restoring parameters from C:\\Users\\Mauri\\AppData\\Local\\Temp\\tmp52gs4ekq\\model.ckpt-513\n",
      "INFO:tensorflow:Running local_init_op.\n",
      "INFO:tensorflow:Done running local_init_op.\n",
      "Pregnancies                   1.000\n",
      "Glucose                     121.000\n",
      "BloodPressure                78.000\n",
      "BMI                          39.000\n",
      "DiabetesPedigreeFunction      0.261\n",
      "Age                          28.000\n",
      "Name: 160, dtype: float64\n",
      "0\n",
      "[0.65579885 0.34420115]\n"
     ]
    }
   ],
   "source": [
    "# Use model to make predictions\n",
    "predictDictionaries = list(linearEstimator.predict(evaluationInputFunction))\n",
    "index = randrange(177);\n",
    "print(dfEvaluate.loc[index])\n",
    "print(y_evaluate.loc[index])\n",
    "print(predictDictionaries[index]['probabilities'])"
   ]
  },
  {
   "cell_type": "markdown",
   "id": "ad18a0ab-a847-4bb6-995e-0826526a50da",
   "metadata": {},
   "source": [
    "### Classification"
   ]
  },
  {
   "cell_type": "markdown",
   "id": "7d99a28e-cf5e-409b-bd9b-fb49708e401a",
   "metadata": {},
   "source": [
    "### Clustering"
   ]
  },
  {
   "cell_type": "markdown",
   "id": "12d08452-c626-4b78-a786-8304f56efe4c",
   "metadata": {},
   "source": [
    "### Hidden Markov Models"
   ]
  }
 ],
 "metadata": {
  "kernelspec": {
   "display_name": "Python 3 (ipykernel)",
   "language": "python",
   "name": "python3"
  },
  "language_info": {
   "codemirror_mode": {
    "name": "ipython",
    "version": 3
   },
   "file_extension": ".py",
   "mimetype": "text/x-python",
   "name": "python",
   "nbconvert_exporter": "python",
   "pygments_lexer": "ipython3",
   "version": "3.9.7"
  }
 },
 "nbformat": 4,
 "nbformat_minor": 5
}
