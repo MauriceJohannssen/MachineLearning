{
 "cells": [
  {
   "cell_type": "markdown",
   "id": "79c6bf8a-84db-4bc6-9fc9-4aacb6ca4a57",
   "metadata": {
    "tags": []
   },
   "source": [
    "# Machine Learning with TensorFlow"
   ]
  },
  {
   "cell_type": "markdown",
   "id": "a3dbeac7-c91b-4e82-a4dc-7aac5d74f4e1",
   "metadata": {},
   "source": [
    "## Tensors"
   ]
  },
  {
   "cell_type": "code",
   "execution_count": 1,
   "id": "843db385-3877-41bd-8069-03e83d646700",
   "metadata": {
    "tags": []
   },
   "outputs": [],
   "source": [
    "import tensorflow as tf\n",
    "import tensorflow.compat.v2.feature_column\n",
    "import numpy as np\n",
    "import pandas as pd\n",
    "import matplotlib.pyplot as plt\n",
    "from IPython.display import clear_output\n",
    "from six.moves import urllib\n",
    "from random import randrange"
   ]
  },
  {
   "cell_type": "markdown",
   "id": "006ace0f-39be-4671-9045-c97bc76b99f4",
   "metadata": {
    "tags": []
   },
   "source": [
    "### Tensor rank and shape\n",
    "\n",
    "Tensors can have rank 0-n (basically refers to the dimensions). <br>\n",
    "Tensors' shape is the amount of elements/data in the tensors. <br>\n",
    "* Shapes can be reshaped."
   ]
  },
  {
   "cell_type": "code",
   "execution_count": 2,
   "id": "2e36b4b6-46c5-43f8-bea7-5b58884ec4be",
   "metadata": {},
   "outputs": [],
   "source": [
    "#Declare and initialize tensors\n",
    "rank0_tensor = tf.Variable(9, tf.int16)\n",
    "rank1_tensor = tf.Variable([1,2,3], tf.float64)\n",
    "rank2_tensor = tf.Variable([[1,2,3], [4,5,6]], tf.int16)\n",
    "rank3_tensor = tf.Variable([[[1,2,3],[4,5,6]],[[7,8,9],[10,11,12]]], tf.int16)"
   ]
  },
  {
   "cell_type": "code",
   "execution_count": 7,
   "id": "a45ff296-491a-4390-aad1-0eb7d47fb05c",
   "metadata": {
    "tags": []
   },
   "outputs": [
    {
     "data": {
      "text/plain": [
       "TensorShape([2, 2, 3])"
      ]
     },
     "execution_count": 7,
     "metadata": {},
     "output_type": "execute_result"
    }
   ],
   "source": [
    "#Get rank of tensor\n",
    "tf.rank(rank1_tensor)\n",
    "\n",
    "#Get shape of tensor\n",
    "rank1_tensor.shape\n",
    "rank2_tensor.shape\n",
    "rank3_tensor.shape"
   ]
  },
  {
   "cell_type": "code",
   "execution_count": 8,
   "id": "13a2050a-6461-4d28-be5e-75b9bc0ed43f",
   "metadata": {
    "tags": []
   },
   "outputs": [
    {
     "name": "stdout",
     "output_type": "stream",
     "text": [
      "tf.Tensor(\n",
      "[[0. 0. 0.]\n",
      " [0. 0. 0.]], shape=(2, 3), dtype=float32)\n",
      "tf.Tensor(\n",
      "[[ 1  2  3  4  5  6]\n",
      " [ 7  8  9 10 11 12]], shape=(2, 6), dtype=int32)\n"
     ]
    },
    {
     "data": {
      "text/plain": [
       "<tf.Tensor: shape=(), dtype=int32, numpy=2>"
      ]
     },
     "execution_count": 8,
     "metadata": {},
     "output_type": "execute_result"
    }
   ],
   "source": [
    "#Reshape tensors\n",
    "\n",
    "#Will create tensor with given shape with all 1\n",
    "#tf.zeros also exits\n",
    "oneTensor = tf.ones([2,3])\n",
    "oneTensor = tf.zeros([2,3])\n",
    "print(oneTensor)\n",
    "\n",
    "#Reshape\n",
    "#-1 lets TensorFlow infer the dimension for that value\n",
    "oneTensor = tf.reshape(oneTensor, [6])\n",
    "newRank2Tensor = tf.reshape(rank3_tensor, [2,6])\n",
    "print(newRank2Tensor)\n",
    "tf.rank(newRank2Tensor)"
   ]
  },
  {
   "cell_type": "markdown",
   "id": "e01f9c22-2f6a-41de-8816-2e3a5151d60a",
   "metadata": {},
   "source": [
    "### Tensor types\n",
    "All tensor type are immutable except for \"Variable\". Availabe tensor types are: <br>\n",
    "* Variable\n",
    "* Constant\n",
    "* Placeholder\n",
    "* SparseTensor"
   ]
  },
  {
   "cell_type": "markdown",
   "id": "33ac92e7-584f-47af-8e3f-d23130a05952",
   "metadata": {},
   "source": [
    "### Evaluating tensors\n",
    "Create session. <br>\n",
    "The code evaluates the tensor variable that is stored in the default graph. The default graph holds all operations not specified to another graph. It is possible to create own seperate graphs."
   ]
  },
  {
   "cell_type": "code",
   "execution_count": 9,
   "id": "256b5b9c-9128-46dc-8fe0-fb472d52f4e4",
   "metadata": {},
   "outputs": [],
   "source": [
    "#with tf.Session() as session: #this uses the default graph\n",
    "    #oneTensor.eval() #tensor to evaluate"
   ]
  },
  {
   "cell_type": "markdown",
   "id": "9c173740-7a36-4756-91d5-50a66f0a7c07",
   "metadata": {},
   "source": [
    "## TensorFlow's Core Learning Algorithms"
   ]
  },
  {
   "cell_type": "markdown",
   "id": "4c12280f-a719-43e2-83ac-1db403fb8f2a",
   "metadata": {},
   "source": [
    "### Linear Regression\n",
    "Creates a line of best fit through a scatter plot of data\n",
    "points that best expresses the relationship between those points. <br>\n",
    "This can be done in any kind of dimensions. <br>\n",
    "\n",
    "Feature columns are columns that contain the unique data, either categorical or numerical, per column of input data.\n",
    "\n",
    "Epochs are the times the model re-evaluates data and thus learns from it.\n",
    "\n",
    "Overfitting occurs when the same data is feed to the model too much, data is almost memorized which degrades future predictions.\n",
    "\n",
    "Batches are used to feed smaller amounts to the model."
   ]
  },
  {
   "cell_type": "markdown",
   "id": "163a39c3-a456-4de4-af7b-ccaa73025f97",
   "metadata": {},
   "source": [
    "Data from: https://www.kaggle.com/uciml/pima-indians-diabetes-database"
   ]
  },
  {
   "cell_type": "code",
   "execution_count": 10,
   "id": "0159594d-9cb5-4a1a-94e3-4fe0f1612e89",
   "metadata": {},
   "outputs": [
    {
     "data": {
      "text/html": [
       "<div>\n",
       "<style scoped>\n",
       "    .dataframe tbody tr th:only-of-type {\n",
       "        vertical-align: middle;\n",
       "    }\n",
       "\n",
       "    .dataframe tbody tr th {\n",
       "        vertical-align: top;\n",
       "    }\n",
       "\n",
       "    .dataframe thead th {\n",
       "        text-align: right;\n",
       "    }\n",
       "</style>\n",
       "<table border=\"1\" class=\"dataframe\">\n",
       "  <thead>\n",
       "    <tr style=\"text-align: right;\">\n",
       "      <th></th>\n",
       "      <th>Pregnancies</th>\n",
       "      <th>Glucose</th>\n",
       "      <th>BloodPressure</th>\n",
       "      <th>BMI</th>\n",
       "      <th>DiabetesPedigreeFunction</th>\n",
       "      <th>Age</th>\n",
       "    </tr>\n",
       "  </thead>\n",
       "  <tbody>\n",
       "    <tr>\n",
       "      <th>count</th>\n",
       "      <td>591.000000</td>\n",
       "      <td>591.000000</td>\n",
       "      <td>591.000000</td>\n",
       "      <td>591.000000</td>\n",
       "      <td>591.000000</td>\n",
       "      <td>591.000000</td>\n",
       "    </tr>\n",
       "    <tr>\n",
       "      <th>mean</th>\n",
       "      <td>3.851100</td>\n",
       "      <td>120.145516</td>\n",
       "      <td>68.752961</td>\n",
       "      <td>31.882064</td>\n",
       "      <td>0.480032</td>\n",
       "      <td>33.311337</td>\n",
       "    </tr>\n",
       "    <tr>\n",
       "      <th>std</th>\n",
       "      <td>3.371088</td>\n",
       "      <td>32.570224</td>\n",
       "      <td>19.345736</td>\n",
       "      <td>8.031028</td>\n",
       "      <td>0.334984</td>\n",
       "      <td>11.856109</td>\n",
       "    </tr>\n",
       "    <tr>\n",
       "      <th>min</th>\n",
       "      <td>0.000000</td>\n",
       "      <td>0.000000</td>\n",
       "      <td>0.000000</td>\n",
       "      <td>0.000000</td>\n",
       "      <td>0.078000</td>\n",
       "      <td>21.000000</td>\n",
       "    </tr>\n",
       "    <tr>\n",
       "      <th>25%</th>\n",
       "      <td>1.000000</td>\n",
       "      <td>99.000000</td>\n",
       "      <td>64.000000</td>\n",
       "      <td>27.000000</td>\n",
       "      <td>0.248500</td>\n",
       "      <td>24.000000</td>\n",
       "    </tr>\n",
       "    <tr>\n",
       "      <th>50%</th>\n",
       "      <td>3.000000</td>\n",
       "      <td>116.000000</td>\n",
       "      <td>70.000000</td>\n",
       "      <td>32.000000</td>\n",
       "      <td>0.382000</td>\n",
       "      <td>29.000000</td>\n",
       "    </tr>\n",
       "    <tr>\n",
       "      <th>75%</th>\n",
       "      <td>6.000000</td>\n",
       "      <td>140.000000</td>\n",
       "      <td>80.000000</td>\n",
       "      <td>36.500000</td>\n",
       "      <td>0.646000</td>\n",
       "      <td>40.000000</td>\n",
       "    </tr>\n",
       "    <tr>\n",
       "      <th>max</th>\n",
       "      <td>17.000000</td>\n",
       "      <td>198.000000</td>\n",
       "      <td>122.000000</td>\n",
       "      <td>67.100000</td>\n",
       "      <td>2.420000</td>\n",
       "      <td>81.000000</td>\n",
       "    </tr>\n",
       "  </tbody>\n",
       "</table>\n",
       "</div>"
      ],
      "text/plain": [
       "       Pregnancies     Glucose  BloodPressure         BMI  \\\n",
       "count   591.000000  591.000000     591.000000  591.000000   \n",
       "mean      3.851100  120.145516      68.752961   31.882064   \n",
       "std       3.371088   32.570224      19.345736    8.031028   \n",
       "min       0.000000    0.000000       0.000000    0.000000   \n",
       "25%       1.000000   99.000000      64.000000   27.000000   \n",
       "50%       3.000000  116.000000      70.000000   32.000000   \n",
       "75%       6.000000  140.000000      80.000000   36.500000   \n",
       "max      17.000000  198.000000     122.000000   67.100000   \n",
       "\n",
       "       DiabetesPedigreeFunction         Age  \n",
       "count                591.000000  591.000000  \n",
       "mean                   0.480032   33.311337  \n",
       "std                    0.334984   11.856109  \n",
       "min                    0.078000   21.000000  \n",
       "25%                    0.248500   24.000000  \n",
       "50%                    0.382000   29.000000  \n",
       "75%                    0.646000   40.000000  \n",
       "max                    2.420000   81.000000  "
      ]
     },
     "execution_count": 10,
     "metadata": {},
     "output_type": "execute_result"
    }
   ],
   "source": [
    "#Load data\n",
    "#Load train data\n",
    "dfTrain = pd.read_csv('CSV_Data/diabetes_train.csv')\n",
    "dfTrain.pop('SkinThickness')\n",
    "dfTrain.pop('Insulin')\n",
    "\n",
    "#Load evaluation data\n",
    "dfEvaluate = pd.read_csv('CSV_Data/diabetes_eval.csv')\n",
    "dfEvaluate.pop('SkinThickness')\n",
    "dfEvaluate.pop('Insulin')\n",
    "\n",
    "#Pop the label\n",
    "y_train = dfTrain.pop('Outcome')\n",
    "y_evaluate = dfEvaluate.pop('Outcome')\n",
    "\n",
    "#Just list\n",
    "#y_train.head()\n",
    "dfTrain.head()\n",
    "\n",
    "#Statistical\n",
    "dfTrain.describe()\n",
    "\n",
    "#dfTrain.shape"
   ]
  },
  {
   "cell_type": "markdown",
   "id": "5e63a7f2-de58-498d-97ae-e0f512dc999c",
   "metadata": {},
   "source": [
    "Visuals can also be created."
   ]
  },
  {
   "cell_type": "code",
   "execution_count": 11,
   "id": "e0a74722-44d9-4e96-8c74-c06563f924f9",
   "metadata": {},
   "outputs": [
    {
     "data": {
      "text/plain": [
       "<AxesSubplot:>"
      ]
     },
     "execution_count": 11,
     "metadata": {},
     "output_type": "execute_result"
    },
    {
     "data": {
      "image/png": "[encoded data removed]",
      "text/plain": [
       "<Figure size 432x288 with 1 Axes>"
      ]
     },
     "metadata": {
      "needs_background": "light"
     },
     "output_type": "display_data"
    }
   ],
   "source": [
    "dfTrain.BMI.hist(bins=20)"
   ]
  },
  {
   "cell_type": "code",
   "execution_count": 12,
   "id": "635fb55c-241d-45ee-b9b1-b5ffd3ae1630",
   "metadata": {},
   "outputs": [
    {
     "data": {
      "text/plain": [
       "<AxesSubplot:>"
      ]
     },
     "execution_count": 12,
     "metadata": {},
     "output_type": "execute_result"
    },
    {
     "data": {
      "image/png": "[encoded data removed]",
      "text/plain": [
       "<Figure size 1440x1440 with 1 Axes>"
      ]
     },
     "metadata": {
      "needs_background": "light"
     },
     "output_type": "display_data"
    }
   ],
   "source": [
    "dfTrain.Age.value_counts().plot(kind='barh', figsize=(20,20))"
   ]
  },
  {
   "cell_type": "code",
   "execution_count": 13,
   "id": "aeb6c378-6766-4621-b777-3dd379f7a463",
   "metadata": {},
   "outputs": [
    {
     "data": {
      "text/plain": [
       "Text(0.5, 0, '% high blood pressure')"
      ]
     },
     "execution_count": 13,
     "metadata": {},
     "output_type": "execute_result"
    },
    {
     "data": {
      "image/png": "[encoded data removed]",
      "text/plain": [
       "<Figure size 432x288 with 1 Axes>"
      ]
     },
     "metadata": {
      "needs_background": "light"
     },
     "output_type": "display_data"
    }
   ],
   "source": [
    "pd.concat([dfTrain, y_train], axis=1).groupby('Pregnancies').Outcome.mean().plot(kind='barh').set_xlabel('% high blood pressure')"
   ]
  },
  {
   "cell_type": "markdown",
   "id": "81f0dcad-2397-483c-8a1a-f5424b3a784b",
   "metadata": {
    "tags": []
   },
   "source": [
    "Input functions are special functions that describe how data is fed into the model during the training process e.g. epochs, batch size etc.\n",
    "\n",
    "The tensor flow model expects data to be a \"tf.data.Dataset\" object."
   ]
  },
  {
   "cell_type": "code",
   "execution_count": 14,
   "id": "c8daf5e0-574d-419c-8293-2e6698e60486",
   "metadata": {},
   "outputs": [
    {
     "name": "stdout",
     "output_type": "stream",
     "text": [
      "Pregnancies\n",
      "Glucose\n",
      "BloodPressure\n",
      "BMI\n",
      "DiabetesPedigreeFunction\n",
      "Age\n",
      "[NumericColumn(key='Pregnancies', shape=(1,), default_value=None, dtype=tf.float32, normalizer_fn=None), NumericColumn(key='Glucose', shape=(1,), default_value=None, dtype=tf.float32, normalizer_fn=None), NumericColumn(key='BloodPressure', shape=(1,), default_value=None, dtype=tf.float32, normalizer_fn=None), NumericColumn(key='BMI', shape=(1,), default_value=None, dtype=tf.float32, normalizer_fn=None), NumericColumn(key='DiabetesPedigreeFunction', shape=(1,), default_value=None, dtype=tf.float32, normalizer_fn=None), NumericColumn(key='Age', shape=(1,), default_value=None, dtype=tf.float32, normalizer_fn=None)]\n"
     ]
    }
   ],
   "source": [
    "#Create feature columns\n",
    "for col in dfTrain.columns:\n",
    "    print(col)\n",
    "    \n",
    "featureColumns = []\n",
    "for col in dfTrain.columns:\n",
    "    featureColumns.append(tf.feature_column.numeric_column(col, dtype=tf.float32))\n",
    "    \n",
    "print(featureColumns)"
   ]
  },
  {
   "cell_type": "code",
   "execution_count": 15,
   "id": "e55e398d-3076-43d9-b12c-207f3541344c",
   "metadata": {},
   "outputs": [],
   "source": [
    "def CreateInputFunction(dataDataFrame, labelDataFrame, numEpochs=25, shuffle=True, batchSize=32):\n",
    "    def InputFunction():\n",
    "        #tf.data.Dataset object creation\n",
    "        dataSet = tf.data.Dataset.from_tensor_slices((dict(dataDataFrame), labelDataFrame))\n",
    "        if shuffle:\n",
    "            dataSet = dataSet.shuffle(1000)\n",
    "        dataSet = dataSet.batch(batchSize).repeat(numEpochs)\n",
    "        return dataSet\n",
    "    return InputFunction\n",
    "\n",
    "trainInputFunction = CreateInputFunction(dfTrain, y_train)\n",
    "evaluationInputFunction = CreateInputFunction(dfEvaluate, y_evaluate, numEpochs=1, shuffle=False)\n"
   ]
  },
  {
   "cell_type": "code",
   "execution_count": 16,
   "id": "e405df4e-a45f-47b4-97d5-2c03213a56c5",
   "metadata": {
    "tags": []
   },
   "outputs": [
    {
     "name": "stdout",
     "output_type": "stream",
     "text": [
      "0.3559322\n"
     ]
    }
   ],
   "source": [
    "#Model creation\n",
    "linearEstimator = tf.estimator.LinearClassifier(feature_columns=featureColumns)\n",
    "\n",
    "#Model training\n",
    "linearEstimator.train(trainInputFunction)\n",
    "result = linearEstimator.evaluate(evaluationInputFunction)\n",
    "\n",
    "clear_output()\n",
    "print(result['accuracy'])"
   ]
  },
  {
   "cell_type": "code",
   "execution_count": 17,
   "id": "070af3c4-ab91-46a9-b97a-9d0998bc1c70",
   "metadata": {
    "tags": []
   },
   "outputs": [
    {
     "name": "stdout",
     "output_type": "stream",
     "text": [
      "INFO:tensorflow:Calling model_fn.\n",
      "INFO:tensorflow:Done calling model_fn.\n",
      "INFO:tensorflow:Graph was finalized.\n",
      "INFO:tensorflow:Restoring parameters from C:\\Users\\Mauri\\AppData\\Local\\Temp\\tmpva9c3_io\\model.ckpt-475\n",
      "INFO:tensorflow:Running local_init_op.\n",
      "INFO:tensorflow:Done running local_init_op.\n",
      "Pregnancies                  10.000\n",
      "Glucose                     115.000\n",
      "BloodPressure                 0.000\n",
      "BMI                           0.000\n",
      "DiabetesPedigreeFunction      0.261\n",
      "Age                          30.000\n",
      "Name: 115, dtype: float64\n",
      "1\n",
      "[0.03170161 0.9682984 ]\n"
     ]
    }
   ],
   "source": [
    "# Use model to make predictions\n",
    "predictDictionaries = list(linearEstimator.predict(evaluationInputFunction))\n",
    "index = randrange(177);\n",
    "print(dfEvaluate.loc[index])\n",
    "print(y_evaluate.loc[index])\n",
    "print(predictDictionaries[index]['probabilities'])"
   ]
  },
  {
   "cell_type": "markdown",
   "id": "ad18a0ab-a847-4bb6-995e-0826526a50da",
   "metadata": {},
   "source": [
    "### Classification\n",
    "\n",
    "Takes input data and considers it between certain classes."
   ]
  },
  {
   "cell_type": "code",
   "execution_count": 18,
   "id": "abc38f7e-54e3-42c1-a9e3-d1554e958ae1",
   "metadata": {},
   "outputs": [],
   "source": [
    "COLUMN_NAMES =  ['SepalLength', 'SepalWidth', 'PetalLength', 'PetalWidth', 'Species']\n",
    "SPECIES = ['Setosa', 'Versicolor', 'Virginica']"
   ]
  },
  {
   "cell_type": "code",
   "execution_count": 19,
   "id": "108036c7-537b-4ee2-b933-9d17d8bcb25b",
   "metadata": {},
   "outputs": [
    {
     "data": {
      "text/html": [
       "<div>\n",
       "<style scoped>\n",
       "    .dataframe tbody tr th:only-of-type {\n",
       "        vertical-align: middle;\n",
       "    }\n",
       "\n",
       "    .dataframe tbody tr th {\n",
       "        vertical-align: top;\n",
       "    }\n",
       "\n",
       "    .dataframe thead th {\n",
       "        text-align: right;\n",
       "    }\n",
       "</style>\n",
       "<table border=\"1\" class=\"dataframe\">\n",
       "  <thead>\n",
       "    <tr style=\"text-align: right;\">\n",
       "      <th></th>\n",
       "      <th>SepalLength</th>\n",
       "      <th>SepalWidth</th>\n",
       "      <th>PetalLength</th>\n",
       "      <th>PetalWidth</th>\n",
       "    </tr>\n",
       "  </thead>\n",
       "  <tbody>\n",
       "    <tr>\n",
       "      <th>0</th>\n",
       "      <td>6.4</td>\n",
       "      <td>2.8</td>\n",
       "      <td>5.6</td>\n",
       "      <td>2.2</td>\n",
       "    </tr>\n",
       "    <tr>\n",
       "      <th>1</th>\n",
       "      <td>5.0</td>\n",
       "      <td>2.3</td>\n",
       "      <td>3.3</td>\n",
       "      <td>1.0</td>\n",
       "    </tr>\n",
       "    <tr>\n",
       "      <th>2</th>\n",
       "      <td>4.9</td>\n",
       "      <td>2.5</td>\n",
       "      <td>4.5</td>\n",
       "      <td>1.7</td>\n",
       "    </tr>\n",
       "    <tr>\n",
       "      <th>3</th>\n",
       "      <td>4.9</td>\n",
       "      <td>3.1</td>\n",
       "      <td>1.5</td>\n",
       "      <td>0.1</td>\n",
       "    </tr>\n",
       "    <tr>\n",
       "      <th>4</th>\n",
       "      <td>5.7</td>\n",
       "      <td>3.8</td>\n",
       "      <td>1.7</td>\n",
       "      <td>0.3</td>\n",
       "    </tr>\n",
       "  </tbody>\n",
       "</table>\n",
       "</div>"
      ],
      "text/plain": [
       "   SepalLength  SepalWidth  PetalLength  PetalWidth\n",
       "0          6.4         2.8          5.6         2.2\n",
       "1          5.0         2.3          3.3         1.0\n",
       "2          4.9         2.5          4.5         1.7\n",
       "3          4.9         3.1          1.5         0.1\n",
       "4          5.7         3.8          1.7         0.3"
      ]
     },
     "execution_count": 19,
     "metadata": {},
     "output_type": "execute_result"
    }
   ],
   "source": [
    "trainPath = tf.keras.utils.get_file(\"iris_training.csv\", \"https://storage.googleapis.com/download.tensorflow.org/data/iris_training.csv\")\n",
    "EvalPath = tf.keras.utils.get_file(\"iris_test.csv\", \"https://storage.googleapis.com/download.tensorflow.org/data/iris_test.csv\")\n",
    "\n",
    "classifierTrain = pd.read_csv(trainPath, names=COLUMN_NAMES, header=0)\n",
    "classifierEval = pd.read_csv(EvalPath, names=COLUMN_NAMES, header=0)\n",
    "\n",
    "#trainClassification.pop('Id')\n",
    "#evalClassification.pop('Id')\n",
    "\n",
    "classificationTrainY = classifierTrain.pop('Species')\n",
    "classificationEvalY = classifierEval.pop('Species')\n",
    "\n",
    "#trainClassification.head()\n",
    "classifierTrain.head()"
   ]
  },
  {
   "cell_type": "markdown",
   "id": "5c3761e4-21d6-43ef-bf4b-f592b2f2f6c8",
   "metadata": {},
   "source": [
    "Classification also uses a special input function. The task of this function is analog to the one used in Linear Regression; to describe how data is fed into the model."
   ]
  },
  {
   "cell_type": "code",
   "execution_count": 21,
   "id": "1bb97894-32be-4521-9a21-640bc96233a8",
   "metadata": {},
   "outputs": [],
   "source": [
    "def ClassificationInputFunction(features, labels, training=True, batchSize=256):\n",
    "    #tf.data.Dataset object creation\n",
    "    dataset = tf.data.Dataset.from_tensor_slices((dict(features), labels))\n",
    "    if training:\n",
    "        dataset = dataset.shuffle(1000).repeat()\n",
    "    return dataset.batch(batchSize)"
   ]
  },
  {
   "cell_type": "markdown",
   "id": "c64801cc-8adc-4bdd-a1be-5646c42d63ee",
   "metadata": {},
   "source": [
    "Classification also uses feature columns."
   ]
  },
  {
   "cell_type": "code",
   "execution_count": 20,
   "id": "6cef79e2-59dc-439b-9ab8-fc33b47d41f7",
   "metadata": {},
   "outputs": [
    {
     "name": "stdout",
     "output_type": "stream",
     "text": [
      "SepalLength\n",
      "SepalWidth\n",
      "PetalLength\n",
      "PetalWidth\n"
     ]
    }
   ],
   "source": [
    "classificationFC = []\n",
    "for key in classifierTrain.keys():\n",
    "    classificationFC.append(tf.feature_column.numeric_column(key=key))\n",
    "    print(key)"
   ]
  },
  {
   "cell_type": "markdown",
   "id": "3362c715-bd39-4a7d-93f2-f199c9f54062",
   "metadata": {},
   "source": [
    "For classification there is a noticably large amount of different algorithms/models that are used to implement it. Often used classifiers are 'LinearClassifier' and 'DNNClassifier', which stands for 'Deep-Neural-Network Classifier'.\n",
    "\n",
    "As the name implies linear classifiers depend on linear correlations whereas DNN-classifier don't."
   ]
  },
  {
   "cell_type": "code",
   "execution_count": 22,
   "id": "54e1ba7b-b4db-41d7-8425-c0fdd8f7e596",
   "metadata": {},
   "outputs": [
    {
     "name": "stdout",
     "output_type": "stream",
     "text": [
      "INFO:tensorflow:Using default config.\n",
      "WARNING:tensorflow:Using temporary folder as model directory: C:\\Users\\Mauri\\AppData\\Local\\Temp\\tmp49obfng9\n",
      "INFO:tensorflow:Using config: {'_model_dir': 'C:\\\\Users\\\\Mauri\\\\AppData\\\\Local\\\\Temp\\\\tmp49obfng9', '_tf_random_seed': None, '_save_summary_steps': 100, '_save_checkpoints_steps': None, '_save_checkpoints_secs': 600, '_session_config': allow_soft_placement: true\n",
      "graph_options {\n",
      "  rewrite_options {\n",
      "    meta_optimizer_iterations: ONE\n",
      "  }\n",
      "}\n",
      ", '_keep_checkpoint_max': 5, '_keep_checkpoint_every_n_hours': 10000, '_log_step_count_steps': 100, '_train_distribute': None, '_device_fn': None, '_protocol': None, '_eval_distribute': None, '_experimental_distribute': None, '_experimental_max_worker_delay_secs': None, '_session_creation_timeout_secs': 7200, '_checkpoint_save_graph_def': True, '_service': None, '_cluster_spec': ClusterSpec({}), '_task_type': 'worker', '_task_id': 0, '_global_id_in_cluster': 0, '_master': '', '_evaluation_master': '', '_is_chief': True, '_num_ps_replicas': 0, '_num_worker_replicas': 1}\n",
      "INFO:tensorflow:Calling model_fn.\n",
      "INFO:tensorflow:Done calling model_fn.\n",
      "INFO:tensorflow:Create CheckpointSaverHook.\n",
      "INFO:tensorflow:Graph was finalized.\n",
      "INFO:tensorflow:Running local_init_op.\n",
      "INFO:tensorflow:Done running local_init_op.\n",
      "INFO:tensorflow:Calling checkpoint listeners before saving checkpoint 0...\n",
      "INFO:tensorflow:Saving checkpoints for 0 into C:\\Users\\Mauri\\AppData\\Local\\Temp\\tmp49obfng9\\model.ckpt.\n",
      "INFO:tensorflow:Calling checkpoint listeners after saving checkpoint 0...\n",
      "INFO:tensorflow:loss = 0.9463059, step = 0\n",
      "INFO:tensorflow:global_step/sec: 200.353\n",
      "INFO:tensorflow:loss = 0.87269056, step = 100 (0.502 sec)\n",
      "INFO:tensorflow:global_step/sec: 156.413\n",
      "INFO:tensorflow:loss = 0.8597201, step = 200 (0.639 sec)\n",
      "INFO:tensorflow:global_step/sec: 172.386\n",
      "INFO:tensorflow:loss = 0.8357656, step = 300 (0.580 sec)\n",
      "INFO:tensorflow:global_step/sec: 171.399\n",
      "INFO:tensorflow:loss = 0.8248265, step = 400 (0.585 sec)\n",
      "INFO:tensorflow:global_step/sec: 183.869\n",
      "INFO:tensorflow:loss = 0.81650245, step = 500 (0.543 sec)\n",
      "INFO:tensorflow:global_step/sec: 186.655\n",
      "INFO:tensorflow:loss = 0.80427146, step = 600 (0.536 sec)\n",
      "INFO:tensorflow:global_step/sec: 196.944\n",
      "INFO:tensorflow:loss = 0.80785877, step = 700 (0.507 sec)\n",
      "INFO:tensorflow:global_step/sec: 195.453\n",
      "INFO:tensorflow:loss = 0.7896476, step = 800 (0.513 sec)\n",
      "INFO:tensorflow:global_step/sec: 193.62\n",
      "INFO:tensorflow:loss = 0.78072727, step = 900 (0.517 sec)\n",
      "INFO:tensorflow:global_step/sec: 189.882\n",
      "INFO:tensorflow:loss = 0.7879619, step = 1000 (0.525 sec)\n",
      "INFO:tensorflow:global_step/sec: 175.443\n",
      "INFO:tensorflow:loss = 0.78986895, step = 1100 (0.571 sec)\n",
      "INFO:tensorflow:global_step/sec: 191.35\n",
      "INFO:tensorflow:loss = 0.7807623, step = 1200 (0.522 sec)\n",
      "INFO:tensorflow:global_step/sec: 195.109\n",
      "INFO:tensorflow:loss = 0.770682, step = 1300 (0.511 sec)\n",
      "INFO:tensorflow:global_step/sec: 202.535\n",
      "INFO:tensorflow:loss = 0.7679137, step = 1400 (0.495 sec)\n",
      "INFO:tensorflow:global_step/sec: 188.415\n",
      "INFO:tensorflow:loss = 0.7559885, step = 1500 (0.531 sec)\n",
      "INFO:tensorflow:global_step/sec: 199.497\n",
      "INFO:tensorflow:loss = 0.75909853, step = 1600 (0.502 sec)\n",
      "INFO:tensorflow:global_step/sec: 187.769\n",
      "INFO:tensorflow:loss = 0.7576234, step = 1700 (0.532 sec)\n",
      "INFO:tensorflow:global_step/sec: 239.897\n",
      "INFO:tensorflow:loss = 0.7447624, step = 1800 (0.414 sec)\n",
      "INFO:tensorflow:global_step/sec: 291.979\n",
      "INFO:tensorflow:loss = 0.74237704, step = 1900 (0.345 sec)\n",
      "INFO:tensorflow:global_step/sec: 202.38\n",
      "INFO:tensorflow:loss = 0.7295077, step = 2000 (0.494 sec)\n",
      "INFO:tensorflow:global_step/sec: 202.561\n",
      "INFO:tensorflow:loss = 0.7367719, step = 2100 (0.494 sec)\n",
      "INFO:tensorflow:global_step/sec: 195.119\n",
      "INFO:tensorflow:loss = 0.73730797, step = 2200 (0.512 sec)\n",
      "INFO:tensorflow:global_step/sec: 209.786\n",
      "INFO:tensorflow:loss = 0.728987, step = 2300 (0.477 sec)\n",
      "INFO:tensorflow:global_step/sec: 202.136\n",
      "INFO:tensorflow:loss = 0.7198734, step = 2400 (0.496 sec)\n",
      "INFO:tensorflow:global_step/sec: 198.704\n",
      "INFO:tensorflow:loss = 0.71002656, step = 2500 (0.502 sec)\n",
      "INFO:tensorflow:global_step/sec: 195.836\n",
      "INFO:tensorflow:loss = 0.7224653, step = 2600 (0.510 sec)\n",
      "INFO:tensorflow:global_step/sec: 198.039\n",
      "INFO:tensorflow:loss = 0.70888716, step = 2700 (0.506 sec)\n",
      "INFO:tensorflow:global_step/sec: 200.218\n",
      "INFO:tensorflow:loss = 0.7187102, step = 2800 (0.499 sec)\n",
      "INFO:tensorflow:global_step/sec: 202.882\n",
      "INFO:tensorflow:loss = 0.7077263, step = 2900 (0.492 sec)\n",
      "INFO:tensorflow:global_step/sec: 235.08\n",
      "INFO:tensorflow:loss = 0.69367874, step = 3000 (0.423 sec)\n",
      "INFO:tensorflow:global_step/sec: 225.16\n",
      "INFO:tensorflow:loss = 0.6949798, step = 3100 (0.449 sec)\n",
      "INFO:tensorflow:global_step/sec: 171.398\n",
      "INFO:tensorflow:loss = 0.6875635, step = 3200 (0.582 sec)\n",
      "INFO:tensorflow:global_step/sec: 198.141\n",
      "INFO:tensorflow:loss = 0.6892235, step = 3300 (0.504 sec)\n",
      "INFO:tensorflow:global_step/sec: 197.391\n",
      "INFO:tensorflow:loss = 0.6844133, step = 3400 (0.507 sec)\n",
      "INFO:tensorflow:global_step/sec: 203.281\n",
      "INFO:tensorflow:loss = 0.6770061, step = 3500 (0.492 sec)\n",
      "INFO:tensorflow:global_step/sec: 199.821\n",
      "INFO:tensorflow:loss = 0.67315423, step = 3600 (0.501 sec)\n",
      "INFO:tensorflow:global_step/sec: 198.944\n",
      "INFO:tensorflow:loss = 0.65675294, step = 3700 (0.503 sec)\n",
      "INFO:tensorflow:global_step/sec: 198.271\n",
      "INFO:tensorflow:loss = 0.6679242, step = 3800 (0.504 sec)\n",
      "INFO:tensorflow:global_step/sec: 166.405\n",
      "INFO:tensorflow:loss = 0.657829, step = 3900 (0.600 sec)\n",
      "INFO:tensorflow:global_step/sec: 190.528\n",
      "INFO:tensorflow:loss = 0.6594709, step = 4000 (0.527 sec)\n",
      "INFO:tensorflow:global_step/sec: 173.495\n",
      "INFO:tensorflow:loss = 0.64892995, step = 4100 (0.576 sec)\n",
      "INFO:tensorflow:global_step/sec: 199.319\n",
      "INFO:tensorflow:loss = 0.64214456, step = 4200 (0.502 sec)\n",
      "INFO:tensorflow:global_step/sec: 197.785\n",
      "INFO:tensorflow:loss = 0.6400933, step = 4300 (0.506 sec)\n",
      "INFO:tensorflow:global_step/sec: 198.899\n",
      "INFO:tensorflow:loss = 0.6340022, step = 4400 (0.502 sec)\n",
      "INFO:tensorflow:global_step/sec: 196.561\n",
      "INFO:tensorflow:loss = 0.6304927, step = 4500 (0.510 sec)\n",
      "INFO:tensorflow:global_step/sec: 164.974\n",
      "INFO:tensorflow:loss = 0.62722695, step = 4600 (0.606 sec)\n",
      "INFO:tensorflow:global_step/sec: 163.061\n",
      "INFO:tensorflow:loss = 0.61100423, step = 4700 (0.612 sec)\n",
      "INFO:tensorflow:global_step/sec: 166.926\n",
      "INFO:tensorflow:loss = 0.61163986, step = 4800 (0.601 sec)\n",
      "INFO:tensorflow:global_step/sec: 200.226\n",
      "INFO:tensorflow:loss = 0.6115955, step = 4900 (0.498 sec)\n",
      "INFO:tensorflow:Calling checkpoint listeners before saving checkpoint 5000...\n",
      "INFO:tensorflow:Saving checkpoints for 5000 into C:\\Users\\Mauri\\AppData\\Local\\Temp\\tmp49obfng9\\model.ckpt.\n",
      "INFO:tensorflow:Calling checkpoint listeners after saving checkpoint 5000...\n",
      "INFO:tensorflow:Loss for final step: 0.58968806.\n"
     ]
    },
    {
     "data": {
      "text/plain": [
       "<tensorflow_estimator.python.estimator.canned.dnn.DNNClassifierV2 at 0x1d18ed8af10>"
      ]
     },
     "execution_count": 22,
     "metadata": {},
     "output_type": "execute_result"
    }
   ],
   "source": [
    "#Model creation\n",
    "classifierModel = tf.estimator.DNNClassifier(feature_columns=classificationFC, hidden_units=[30,10], n_classes=3)\n",
    "\n",
    "#Model training\n",
    "classifierModel.train(input_fn=lambda: ClassificationInputFunction(classifierTrain,classificationTrainY, training=True),steps=5000)\n",
    "#clear_output()"
   ]
  },
  {
   "cell_type": "code",
   "execution_count": 23,
   "id": "c29deb9d-737e-443c-b4c9-b16763e50d21",
   "metadata": {},
   "outputs": [
    {
     "name": "stdout",
     "output_type": "stream",
     "text": [
      "INFO:tensorflow:Calling model_fn.\n",
      "INFO:tensorflow:Done calling model_fn.\n",
      "INFO:tensorflow:Starting evaluation at 2021-10-21T14:06:55\n",
      "INFO:tensorflow:Graph was finalized.\n",
      "INFO:tensorflow:Restoring parameters from C:\\Users\\Mauri\\AppData\\Local\\Temp\\tmp49obfng9\\model.ckpt-5000\n",
      "INFO:tensorflow:Running local_init_op.\n",
      "INFO:tensorflow:Done running local_init_op.\n",
      "INFO:tensorflow:Inference Time : 0.74570s\n",
      "INFO:tensorflow:Finished evaluation at 2021-10-21-14:06:56\n",
      "INFO:tensorflow:Saving dict for global step 5000: accuracy = 0.93333334, average_loss = 0.6001579, global_step = 5000, loss = 0.6001579\n",
      "INFO:tensorflow:Saving 'checkpoint_path' summary for global step 5000: C:\\Users\\Mauri\\AppData\\Local\\Temp\\tmp49obfng9\\model.ckpt-5000\n",
      "Current accuracy was at 0.93%\n"
     ]
    }
   ],
   "source": [
    "#Evaluates the precision of the model.\n",
    "evaluationResult = classifierModel.evaluate(input_fn=lambda: ClassificationInputFunction(classifierEval,classificationEvalY, training=False))\n",
    "print('Current accuracy was at {accuracy:0.2f}%'.format(**evaluationResult))"
   ]
  },
  {
   "cell_type": "code",
   "execution_count": 24,
   "id": "8c2de950-2644-4535-b434-4b9f697a53d2",
   "metadata": {},
   "outputs": [
    {
     "name": "stdout",
     "output_type": "stream",
     "text": [
      "INFO:tensorflow:Calling model_fn.\n",
      "INFO:tensorflow:Done calling model_fn.\n",
      "INFO:tensorflow:Graph was finalized.\n",
      "INFO:tensorflow:Restoring parameters from C:\\Users\\Mauri\\AppData\\Local\\Temp\\tmp49obfng9\\model.ckpt-5000\n",
      "INFO:tensorflow:Running local_init_op.\n",
      "INFO:tensorflow:Done running local_init_op.\n",
      "{'logits': array([-0.34285748,  0.29142874, -0.04950126], dtype=float32), 'probabilities': array([0.23659699, 0.4461452 , 0.31725773], dtype=float32), 'class_ids': array([1], dtype=int64), 'classes': array([b'1'], dtype=object), 'all_class_ids': array([0, 1, 2]), 'all_classes': array([b'0', b'1', b'2'], dtype=object)}\n",
      "Prediction is \"Versicolor\" (44.6%)\n"
     ]
    }
   ],
   "source": [
    "# Creates input function without labels for making predictions\n",
    "def EvaluationFunction(features, batchSize=256):\n",
    "    return tf.data.Dataset.from_tensor_slices(dict(features)).batch(batchSize)\n",
    "\n",
    "#Predict for example value\n",
    "#I just made up reasonable values to test the prediction capabilities.\n",
    "predict = {'SepalLength': [5.2], 'SepalWidth': [2.8], 'PetalLength': [2.5],'PetalWidth': [0.3]}\n",
    "classifierPrediction = classifierModel.predict(input_fn=lambda: EvaluationFunction(predict))\n",
    "for pred in classifierPrediction:\n",
    "    print(pred)\n",
    "    class_id = pred['class_ids'][0]\n",
    "    probability = pred['probabilities'][class_id]\n",
    "    #Copied this from the TensorFlow website\n",
    "    print('Prediction is \"{}\" ({:.1f}%)'.format(SPECIES[class_id], 100 * probability))"
   ]
  },
  {
   "cell_type": "markdown",
   "id": "7d99a28e-cf5e-409b-bd9b-fb49708e401a",
   "metadata": {},
   "source": [
    "### Clustering"
   ]
  },
  {
   "cell_type": "markdown",
   "id": "e346225f-9c31-41aa-9910-d2b44dbe8037",
   "metadata": {},
   "source": [
    "Clustering is an unsupervised ML algorithm, which creates clusters of similar data points.\n",
    "One of those algorithms is \"K-Means\". \n",
    "\n",
    "The basic algorithm works as follows:\n",
    "1. Randomly pick n points to place n centroids.\n",
    "2. Assign all data points to one centroid based on euclidean distance.\n",
    "3. Place centroid in the center of mass.\n",
    "5. Repeat, starting from step 2 until any centroid must not be moved anymore."
   ]
  },
  {
   "cell_type": "markdown",
   "id": "12d08452-c626-4b78-a786-8304f56efe4c",
   "metadata": {},
   "source": [
    "### Hidden Markov Models"
   ]
  },
  {
   "cell_type": "markdown",
   "id": "71d7fc8d-357f-479b-8153-df32ccff147c",
   "metadata": {},
   "source": [
    "Hidden Markov Models consist of states, observations and transitions.\n",
    "\n",
    "- States: Each Markov Model has a finite amount of states e.g. \"hot\", \"cold\", \"rain\", \"sun\" etc.\n",
    "- Observations: Each state has specific observations based on a probability distribution.\n",
    "- Transitions: Each state has a probability defining how likely it is to transition to a different states.\n",
    "\n"
   ]
  },
  {
   "cell_type": "code",
   "execution_count": 26,
   "id": "5a0334f2-5b3c-4770-bf3f-8886bce2e4ba",
   "metadata": {},
   "outputs": [],
   "source": [
    "import tensorflow_probability as tfp"
   ]
  },
  {
   "cell_type": "code",
   "execution_count": 31,
   "id": "ba52e143-224f-421c-b2bc-bb00b979aebb",
   "metadata": {},
   "outputs": [],
   "source": [
    "#TFP shortcut\n",
    "tfd = tfp.distributions \n",
    "initialDistribution = tfd.Categorical(probs=[0.8, 0.2])\n",
    "transitionDistribution = tfd.Categorical(probs=[[0.6, 0.4], [0.2, 0.8]])\n",
    "\n",
    "#loc represents mean\n",
    "#scale represents standard deviation\n",
    "observationDistribution = tfd.Normal(loc=[0.0, 15.0], scale=[5.0, 10.0])"
   ]
  },
  {
   "cell_type": "code",
   "execution_count": 32,
   "id": "b861b09d-612a-4b93-854c-080eafdfba9e",
   "metadata": {},
   "outputs": [
    {
     "name": "stdout",
     "output_type": "stream",
     "text": [
      "[2.9999998 7.200001  8.88      9.552001  9.820802 ]\n"
     ]
    }
   ],
   "source": [
    "markovModel = tfd.HiddenMarkovModel(initial_distribution=initialDistribution, transition_distribution= transitionDistribution, \n",
    "                                    observation_distribution=observationDistribution, num_steps=5)\n",
    "\n",
    "#This is a partially define tensor\n",
    "mean = markovModel.mean()\n",
    "\n",
    "with tf.compat.v1.Session() as session:\n",
    "    print(mean.numpy())"
   ]
  }
 ],
 "metadata": {
  "kernelspec": {
   "display_name": "Python 3 (ipykernel)",
   "language": "python",
   "name": "python3"
  },
  "language_info": {
   "codemirror_mode": {
    "name": "ipython",
    "version": 3
   },
   "file_extension": ".py",
   "mimetype": "text/x-python",
   "name": "python",
   "nbconvert_exporter": "python",
   "pygments_lexer": "ipython3",
   "version": "3.9.7"
  }
 },
 "nbformat": 4,
 "nbformat_minor": 5
}
