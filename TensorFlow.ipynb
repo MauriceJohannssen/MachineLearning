{
 "cells": [
  {
   "cell_type": "markdown",
   "id": "79c6bf8a-84db-4bc6-9fc9-4aacb6ca4a57",
   "metadata": {
    "tags": []
   },
   "source": [
    "# Machine Learning with TensorFlow"
   ]
  },
  {
   "cell_type": "markdown",
   "id": "a3dbeac7-c91b-4e82-a4dc-7aac5d74f4e1",
   "metadata": {},
   "source": [
    "## Tensors"
   ]
  },
  {
   "cell_type": "code",
   "execution_count": null,
   "id": "843db385-3877-41bd-8069-03e83d646700",
   "metadata": {
    "tags": []
   },
   "outputs": [],
   "source": [
    "import tensorflow as tf\n",
    "print(tf.version)"
   ]
  },
  {
   "cell_type": "markdown",
   "id": "006ace0f-39be-4671-9045-c97bc76b99f4",
   "metadata": {
    "tags": []
   },
   "source": [
    "### Tensor rank and shape\n",
    "\n",
    "Tensors can have rank 0-n (basically refers to the dimensions). <br>\n",
    "Tensors' shape is the amount of elements/data in the tensors. <br>\n",
    "* Shapes can be reshaped."
   ]
  },
  {
   "cell_type": "code",
   "execution_count": null,
   "id": "2e36b4b6-46c5-43f8-bea7-5b58884ec4be",
   "metadata": {},
   "outputs": [],
   "source": [
    "#Declare and initialize tensors\n",
    "rank0_tensor = tf.Variable(9, tf.int16)\n",
    "rank1_tensor = tf.Variable([1,2,3], tf.float64)\n",
    "rank2_tensor = tf.Variable([[1,2,3], [4,5,6]], tf.int16)\n",
    "rank3_tensor = tf.Variable([[[1,2,3],[4,5,6]],[[7,8,9],[10,11,12]]])"
   ]
  },
  {
   "cell_type": "code",
   "execution_count": null,
   "id": "a45ff296-491a-4390-aad1-0eb7d47fb05c",
   "metadata": {},
   "outputs": [],
   "source": [
    "#Get rank of tensor\n",
    "tf.rank(rank1_tensor)\n",
    "\n",
    "#Get shape of tensor\n",
    "rank1_tensor.shape\n",
    "rank2_tensor.shape\n",
    "rank3_tensor.shape"
   ]
  },
  {
   "cell_type": "code",
   "execution_count": null,
   "id": "13a2050a-6461-4d28-be5e-75b9bc0ed43f",
   "metadata": {},
   "outputs": [],
   "source": [
    "#Reshape tensors\n",
    "\n",
    "#Will create tensor with given shape with all 1\n",
    "#tf.zeros also exits\n",
    "oneTensor = tf.ones([2,3])\n",
    "#print(oneTensor)\n",
    "\n",
    "#Reshape\n",
    "#-1 lets TensorFlow infer the dimension for that value\n",
    "oneTensor = tf.reshape(oneTensor, [6])\n",
    "print(oneTensor)\n",
    "tf.rank(oneTensor)"
   ]
  },
  {
   "cell_type": "markdown",
   "id": "e01f9c22-2f6a-41de-8816-2e3a5151d60a",
   "metadata": {},
   "source": [
    "### Tensor types\n",
    "All tensor type are immutable except for \"Variable\". Availabe tensor types are: <br>\n",
    "* Variable\n",
    "* Constant\n",
    "* Placeholder\n",
    "* SparseTensor"
   ]
  },
  {
   "cell_type": "markdown",
   "id": "33ac92e7-584f-47af-8e3f-d23130a05952",
   "metadata": {},
   "source": [
    "### Evaluating tensors\n",
    "Create session. <br>\n",
    "The code evaluates the tensor variable that is stored in the default graph. The default graph holds all operations not specified to another graph. It is possible to create own seperate graphs."
   ]
  },
  {
   "cell_type": "code",
   "execution_count": null,
   "id": "256b5b9c-9128-46dc-8fe0-fb472d52f4e4",
   "metadata": {},
   "outputs": [],
   "source": [
    "with tf.Session() as session: #this uses the default graph\n",
    "    oneTensor.eval() #tensor to evaluate"
   ]
  },
  {
   "cell_type": "markdown",
   "id": "9c173740-7a36-4756-91d5-50a66f0a7c07",
   "metadata": {},
   "source": [
    "## TensorFlow's Core Learning Algorithms"
   ]
  },
  {
   "cell_type": "markdown",
   "id": "4c12280f-a719-43e2-83ac-1db403fb8f2a",
   "metadata": {},
   "source": [
    "### Linear Regression\n",
    "Creates a line of best fit through a scatter plot of data\n",
    "points that best expresses the relationship between those points. <br>\n",
    "This can be done in any kind of dimensions. <br>\n",
    "\n",
    "Feature columns are columns that contain the unique data, either categorical or numerical, per column of input data.\n",
    "\n",
    "Epochs are the times the model re-evaluates data and thus learns from it.\n",
    "\n",
    "Overfitting occurs when the same data is feed to the model too much, data is almost memorized which degrades future predictions.\n",
    "\n",
    "Batches are used to feed smaller amounts to the model."
   ]
  },
  {
   "cell_type": "markdown",
   "id": "ad18a0ab-a847-4bb6-995e-0826526a50da",
   "metadata": {},
   "source": [
    "### Classification"
   ]
  },
  {
   "cell_type": "markdown",
   "id": "7d99a28e-cf5e-409b-bd9b-fb49708e401a",
   "metadata": {},
   "source": [
    "### Clustering"
   ]
  },
  {
   "cell_type": "markdown",
   "id": "12d08452-c626-4b78-a786-8304f56efe4c",
   "metadata": {},
   "source": [
    "### Hidden Markov Models"
   ]
  },
  {
   "cell_type": "code",
   "execution_count": null,
   "id": "25d37cef-8a45-46db-bdd2-857be4310596",
   "metadata": {},
   "outputs": [],
   "source": []
  }
 ],
 "metadata": {
  "kernelspec": {
   "display_name": "Python 3 (ipykernel)",
   "language": "python",
   "name": "python3"
  },
  "language_info": {
   "codemirror_mode": {
    "name": "ipython",
    "version": 3
   },
   "file_extension": ".py",
   "mimetype": "text/x-python",
   "name": "python",
   "nbconvert_exporter": "python",
   "pygments_lexer": "ipython3",
   "version": "3.9.7"
  }
 },
 "nbformat": 4,
 "nbformat_minor": 5
}
