{
 "cells": [
  {
   "cell_type": "markdown",
   "id": "79c6bf8a-84db-4bc6-9fc9-4aacb6ca4a57",
   "metadata": {
    "tags": []
   },
   "source": [
    "# Machine Learning with TensorFlow"
   ]
  },
  {
   "cell_type": "markdown",
   "id": "a3dbeac7-c91b-4e82-a4dc-7aac5d74f4e1",
   "metadata": {},
   "source": [
    "## Tensors"
   ]
  },
  {
   "cell_type": "code",
   "execution_count": null,
   "id": "843db385-3877-41bd-8069-03e83d646700",
   "metadata": {
    "tags": []
   },
   "outputs": [],
   "source": [
    "import tensorflow as tf\n",
    "print(tf.version)\n",
    "import tensorflow.compat.v2.feature_column\n",
    "import numpy as np\n",
    "import pandas as pd\n",
    "import matplotlib.pyplot as plt\n",
    "from IPython.display import clear_output\n",
    "from six.moves import urllib\n",
    "from random import randrange"
   ]
  },
  {
   "cell_type": "markdown",
   "id": "006ace0f-39be-4671-9045-c97bc76b99f4",
   "metadata": {
    "tags": []
   },
   "source": [
    "### Tensor rank and shape\n",
    "\n",
    "Tensors can have rank 0-n (basically refers to the dimensions). <br>\n",
    "Tensors' shape is the amount of elements/data in the tensors. <br>\n",
    "* Shapes can be reshaped."
   ]
  },
  {
   "cell_type": "code",
   "execution_count": null,
   "id": "2e36b4b6-46c5-43f8-bea7-5b58884ec4be",
   "metadata": {},
   "outputs": [],
   "source": [
    "#Declare and initialize tensors\n",
    "rank0_tensor = tf.Variable(9, tf.int16)\n",
    "rank1_tensor = tf.Variable([1,2,3], tf.float64)\n",
    "rank2_tensor = tf.Variable([[1,2,3], [4,5,6]], tf.int16)\n",
    "rank3_tensor = tf.Variable([[[1,2,3],[4,5,6]],[[7,8,9],[10,11,12]]])"
   ]
  },
  {
   "cell_type": "code",
   "execution_count": null,
   "id": "a45ff296-491a-4390-aad1-0eb7d47fb05c",
   "metadata": {},
   "outputs": [],
   "source": [
    "#Get rank of tensor\n",
    "tf.rank(rank1_tensor)\n",
    "\n",
    "#Get shape of tensor\n",
    "rank1_tensor.shape\n",
    "rank2_tensor.shape\n",
    "rank3_tensor.shape"
   ]
  },
  {
   "cell_type": "code",
   "execution_count": null,
   "id": "13a2050a-6461-4d28-be5e-75b9bc0ed43f",
   "metadata": {},
   "outputs": [],
   "source": [
    "#Reshape tensors\n",
    "\n",
    "#Will create tensor with given shape with all 1\n",
    "#tf.zeros also exits\n",
    "oneTensor = tf.ones([2,3])\n",
    "#print(oneTensor)\n",
    "\n",
    "#Reshape\n",
    "#-1 lets TensorFlow infer the dimension for that value\n",
    "oneTensor = tf.reshape(oneTensor, [6])\n",
    "print(oneTensor)\n",
    "tf.rank(oneTensor)"
   ]
  },
  {
   "cell_type": "markdown",
   "id": "e01f9c22-2f6a-41de-8816-2e3a5151d60a",
   "metadata": {},
   "source": [
    "### Tensor types\n",
    "All tensor type are immutable except for \"Variable\". Availabe tensor types are: <br>\n",
    "* Variable\n",
    "* Constant\n",
    "* Placeholder\n",
    "* SparseTensor"
   ]
  },
  {
   "cell_type": "markdown",
   "id": "33ac92e7-584f-47af-8e3f-d23130a05952",
   "metadata": {},
   "source": [
    "### Evaluating tensors\n",
    "Create session. <br>\n",
    "The code evaluates the tensor variable that is stored in the default graph. The default graph holds all operations not specified to another graph. It is possible to create own seperate graphs."
   ]
  },
  {
   "cell_type": "code",
   "execution_count": null,
   "id": "256b5b9c-9128-46dc-8fe0-fb472d52f4e4",
   "metadata": {},
   "outputs": [],
   "source": [
    "#with tf.Session() as session: #this uses the default graph\n",
    "    # oneTensor.eval() #tensor to evaluate"
   ]
  },
  {
   "cell_type": "markdown",
   "id": "9c173740-7a36-4756-91d5-50a66f0a7c07",
   "metadata": {},
   "source": [
    "## TensorFlow's Core Learning Algorithms"
   ]
  },
  {
   "cell_type": "markdown",
   "id": "4c12280f-a719-43e2-83ac-1db403fb8f2a",
   "metadata": {},
   "source": [
    "### Linear Regression\n",
    "Creates a line of best fit through a scatter plot of data\n",
    "points that best expresses the relationship between those points. <br>\n",
    "This can be done in any kind of dimensions. <br>\n",
    "\n",
    "Feature columns are columns that contain the unique data, either categorical or numerical, per column of input data.\n",
    "\n",
    "Epochs are the times the model re-evaluates data and thus learns from it.\n",
    "\n",
    "Overfitting occurs when the same data is feed to the model too much, data is almost memorized which degrades future predictions.\n",
    "\n",
    "Batches are used to feed smaller amounts to the model."
   ]
  },
  {
   "cell_type": "markdown",
   "id": "163a39c3-a456-4de4-af7b-ccaa73025f97",
   "metadata": {},
   "source": [
    "Data from: https://www.kaggle.com/uciml/pima-indians-diabetes-database"
   ]
  },
  {
   "cell_type": "code",
   "execution_count": null,
   "id": "0159594d-9cb5-4a1a-94e3-4fe0f1612e89",
   "metadata": {},
   "outputs": [],
   "source": [
    "#Load data\n",
    "dfTrain = pd.read_csv('CSV_Data/diabetes_train.csv')\n",
    "dfTrain.pop('SkinThickness')\n",
    "dfTrain.pop('Insulin')\n",
    "dfEvaluate = pd.read_csv('CSV_Data/diabetes_eval.csv')\n",
    "dfEvaluate.pop('SkinThickness')\n",
    "dfEvaluate.pop('Insulin')\n",
    "y_train = dfTrain.pop('Outcome')\n",
    "y_evaluate = dfEvaluate.pop('Outcome')\n",
    "\n",
    "#Just list\n",
    "#y_train.head()\n",
    "dfTrain.head()\n",
    "\n",
    "#Statistical\n",
    "#dfTrain.describe()\n",
    "\n",
    "#dfTrain.shape"
   ]
  },
  {
   "cell_type": "markdown",
   "id": "5e63a7f2-de58-498d-97ae-e0f512dc999c",
   "metadata": {},
   "source": [
    "Visuals can also be created."
   ]
  },
  {
   "cell_type": "code",
   "execution_count": null,
   "id": "e0a74722-44d9-4e96-8c74-c06563f924f9",
   "metadata": {},
   "outputs": [],
   "source": [
    "dfTrain.BMI.hist(bins=20)"
   ]
  },
  {
   "cell_type": "code",
   "execution_count": null,
   "id": "635fb55c-241d-45ee-b9b1-b5ffd3ae1630",
   "metadata": {},
   "outputs": [],
   "source": [
    "dfTrain.Age.value_counts().plot(kind='barh', figsize=(20,20))"
   ]
  },
  {
   "cell_type": "code",
   "execution_count": null,
   "id": "aeb6c378-6766-4621-b777-3dd379f7a463",
   "metadata": {},
   "outputs": [],
   "source": [
    "pd.concat([dfTrain, y_train], axis=1).groupby('Pregnancies').Outcome.mean().plot(kind='barh').set_xlabel('% high blood pressure')"
   ]
  },
  {
   "cell_type": "markdown",
   "id": "81f0dcad-2397-483c-8a1a-f5424b3a784b",
   "metadata": {
    "tags": []
   },
   "source": [
    "Input functions are special functions that describe how data is fed into the model during the training process e.g. epochs, batch size etc.\n",
    "\n",
    "The tensor flow model expects data to be a \"tf.data.Dataset\" object."
   ]
  },
  {
   "cell_type": "code",
   "execution_count": null,
   "id": "e55e398d-3076-43d9-b12c-207f3541344c",
   "metadata": {},
   "outputs": [],
   "source": [
    "def CreateInputFunction(dataDataFrame, labelDataFrame, numEpochs=27, shuffle=True, batchSize=32):\n",
    "    def InputFunction():\n",
    "        #tf.data.Dataset object creation\n",
    "        dataSet = tf.data.Dataset.from_tensor_slices((dict(dataDataFrame), labelDataFrame))\n",
    "        if shuffle:\n",
    "            dataSet = dataSet.shuffle(1000)\n",
    "        dataSet = dataSet.batch(batchSize).repeat(numEpochs)\n",
    "        return dataSet\n",
    "    return InputFunction\n",
    "\n",
    "trainInputFunction = CreateInputFunction(dfTrain, y_train)\n",
    "evaluationInputFunction = CreateInputFunction(dfEvaluate, y_evaluate)\n"
   ]
  },
  {
   "cell_type": "code",
   "execution_count": null,
   "id": "c8daf5e0-574d-419c-8293-2e6698e60486",
   "metadata": {},
   "outputs": [],
   "source": [
    "#Create feature columns\n",
    "for col in dfTrain.columns:\n",
    "    print(col)\n",
    "    \n",
    "featureColumns = []\n",
    "for col in dfTrain.columns:\n",
    "    featureColumns.append(tf.feature_column.numeric_column(col, dtype=tf.float32))"
   ]
  },
  {
   "cell_type": "code",
   "execution_count": null,
   "id": "e405df4e-a45f-47b4-97d5-2c03213a56c5",
   "metadata": {
    "tags": []
   },
   "outputs": [],
   "source": [
    "#Model creation\n",
    "linearEstimator = tf.estimator.LinearClassifier(feature_columns=featureColumns)\n",
    "\n",
    "#Model training\n",
    "linearEstimator.train(trainInputFunction)\n",
    "result = linearEstimator.evaluate(evaluationInputFunction)\n",
    "\n",
    "clear_output()\n",
    "print(result['accuracy'])"
   ]
  },
  {
   "cell_type": "code",
   "execution_count": null,
   "id": "070af3c4-ab91-46a9-b97a-9d0998bc1c70",
   "metadata": {
    "tags": []
   },
   "outputs": [],
   "source": [
    "# Use model to make predictions\n",
    "predictDictionaries = list(linearEstimator.predict(evaluationInputFunction))\n",
    "index = randrange(177);\n",
    "print(dfEvaluate.loc[index])\n",
    "print(y_evaluate.loc[index])\n",
    "print(predictDictionaries[index]['probabilities'])"
   ]
  },
  {
   "cell_type": "markdown",
   "id": "ad18a0ab-a847-4bb6-995e-0826526a50da",
   "metadata": {},
   "source": [
    "### Classification\n",
    "\n",
    "Takes input data and considers it between certain classes."
   ]
  },
  {
   "cell_type": "code",
   "execution_count": null,
   "id": "abc38f7e-54e3-42c1-a9e3-d1554e958ae1",
   "metadata": {},
   "outputs": [],
   "source": [
    "COLUMN_NAMES =  ['SepalLength', 'SepalWidth', 'PetalLength', 'PetalWidth', 'Species']\n",
    "SPECIES = ['Setosa', 'Versicolor', 'Virginica']"
   ]
  },
  {
   "cell_type": "code",
   "execution_count": null,
   "id": "108036c7-537b-4ee2-b933-9d17d8bcb25b",
   "metadata": {},
   "outputs": [],
   "source": [
    "trainPath = tf.keras.utils.get_file(\"iris_training.csv\", \"https://storage.googleapis.com/download.tensorflow.org/data/iris_training.csv\")\n",
    "EvalPath = tf.keras.utils.get_file(\"iris_test.csv\", \"https://storage.googleapis.com/download.tensorflow.org/data/iris_test.csv\")\n",
    "\n",
    "classifierTrain = pd.read_csv(trainPath, names=COLUMN_NAMES, header=0)\n",
    "classifierEval = pd.read_csv(EvalPath, names=COLUMN_NAMES, header=0)\n",
    "\n",
    "#trainClassification.pop('Id')\n",
    "#evalClassification.pop('Id')\n",
    "\n",
    "classificationTrainY = classifierTrain.pop('Species')\n",
    "classificationEvalY = classifierEval.pop('Species')\n",
    "\n",
    "#trainClassification.head()\n",
    "train.head()"
   ]
  },
  {
   "cell_type": "markdown",
   "id": "5c3761e4-21d6-43ef-bf4b-f592b2f2f6c8",
   "metadata": {},
   "source": [
    "Classification also uses a special input function. The task of this function is analog to the one used in Linear Regression; to describe how data is fed into the model."
   ]
  },
  {
   "cell_type": "code",
   "execution_count": null,
   "id": "1bb97894-32be-4521-9a21-640bc96233a8",
   "metadata": {},
   "outputs": [],
   "source": [
    "def ClassificationInputFunction(features, labels, training=True, batchSize=256):\n",
    "    #tf.data.Dataset object creation\n",
    "    dataset = tf.data.Dataset.from_tensor_slices((dict(features), labels))\n",
    "    if training:\n",
    "        dataset = dataset.shuffle(1000).repeat()\n",
    "    return dataset.batch(batchSize)"
   ]
  },
  {
   "cell_type": "markdown",
   "id": "c64801cc-8adc-4bdd-a1be-5646c42d63ee",
   "metadata": {},
   "source": [
    "Classification also uses feature columns."
   ]
  },
  {
   "cell_type": "code",
   "execution_count": null,
   "id": "6cef79e2-59dc-439b-9ab8-fc33b47d41f7",
   "metadata": {},
   "outputs": [],
   "source": [
    "classificationFC = []\n",
    "for key in classifierTrain.keys():\n",
    "    classificationFC.append(tf.feature_column.numeric_column(key=key))\n",
    "    print(key)"
   ]
  },
  {
   "cell_type": "markdown",
   "id": "3362c715-bd39-4a7d-93f2-f199c9f54062",
   "metadata": {},
   "source": [
    "For classification there is a noticably large amount of different algorithms/models that are used to implement it. Often used classifiers are 'LinearClassifier' and 'DNNClassifier', which stands for 'Deep-Neural-Network Classifier'.\n",
    "\n",
    "As the name implies linear classifiers depend on linear correlations whereas DNN-classifier don't."
   ]
  },
  {
   "cell_type": "code",
   "execution_count": null,
   "id": "54e1ba7b-b4db-41d7-8425-c0fdd8f7e596",
   "metadata": {},
   "outputs": [],
   "source": [
    "#Model creation\n",
    "classifierModel = tf.estimator.DNNClassifier(feature_columns=classificationFC, hidden_units=[30,10], n_classes=3)\n",
    "\n",
    "#Model training\n",
    "classifierModel.train(input_fn=lambda: ClassificationInputFunction(classifierTrain,classificationTrainY, training=True),steps=5000)"
   ]
  },
  {
   "cell_type": "code",
   "execution_count": null,
   "id": "c29deb9d-737e-443c-b4c9-b16763e50d21",
   "metadata": {},
   "outputs": [],
   "source": [
    "#Evaluates the precision of the model.\n",
    "evaluationResult = classifierModel.evaluate(input_fn=lambda: ClassificationInputFunction(classifierEval,classificationEvalY, training=False))\n",
    "print('Current accuracy was at {accuracy:0.2f}%'.format(**evaluationResult))"
   ]
  },
  {
   "cell_type": "code",
   "execution_count": null,
   "id": "8c2de950-2644-4535-b434-4b9f697a53d2",
   "metadata": {},
   "outputs": [],
   "source": [
    "# Creates input function without labels for making predictions\n",
    "def EvaluationFunction(features, batchSize=256):\n",
    "    return tf.data.Dataset.from_tensor_slices(dict(features)).batch(batchSize)\n",
    "\n",
    "#Predict for example value\n",
    "prediction = {'SepalLength' : 5.2, 'SepalWidth': 2.8,'PetalLength':2.5,'PetalWidth' : 0.3}\n",
    "predictions = classifierModel.predict(input_fn=lambda: EvaluationFunction(prediction))\n",
    "for pred_dict in predictions:\n",
    "    class_id = pred_dict['class_ids'][0]\n",
    "    probability = pred_dict['probabilities'][class_id]\n",
    "\n",
    "    print('Prediction is \"{}\" ({:.1f}%)'.format(\n",
    "        SPECIES[class_id], 100 * probability))\n",
    "\n"
   ]
  },
  {
   "cell_type": "markdown",
   "id": "7d99a28e-cf5e-409b-bd9b-fb49708e401a",
   "metadata": {},
   "source": [
    "### Clustering"
   ]
  },
  {
   "cell_type": "markdown",
   "id": "12d08452-c626-4b78-a786-8304f56efe4c",
   "metadata": {},
   "source": [
    "### Hidden Markov Models"
   ]
  }
 ],
 "metadata": {
  "kernelspec": {
   "display_name": "Python 3 (ipykernel)",
   "language": "python",
   "name": "python3"
  },
  "language_info": {
   "codemirror_mode": {
    "name": "ipython",
    "version": 3
   },
   "file_extension": ".py",
   "mimetype": "text/x-python",
   "name": "python",
   "nbconvert_exporter": "python",
   "pygments_lexer": "ipython3",
   "version": "3.9.7"
  }
 },
 "nbformat": 4,
 "nbformat_minor": 5
}
