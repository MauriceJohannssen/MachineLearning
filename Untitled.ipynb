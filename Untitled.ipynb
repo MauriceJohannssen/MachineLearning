{
 "cells": [
  {
   "cell_type": "code",
   "execution_count": null,
   "id": "843db385-3877-41bd-8069-03e83d646700",
   "metadata": {},
   "outputs": [],
   "source": [
    "import tensorflow as tf\n",
    "print(tf.version)"
   ]
  },
  {
   "cell_type": "markdown",
   "id": "006ace0f-39be-4671-9045-c97bc76b99f4",
   "metadata": {},
   "source": [
    "Tensors can have rank 0-n (basically refers to the dimensions)\n",
    "Tensors' shape is the amount of of elements/data in the tensors\n",
    "    Shapes can be reshaped"
   ]
  },
  {
   "cell_type": "code",
   "execution_count": null,
   "id": "2e36b4b6-46c5-43f8-bea7-5b58884ec4be",
   "metadata": {},
   "outputs": [],
   "source": [
    "#Declare and initialize tensors\n",
    "rank0_tensor = tf.Variable(9, tf.int16)\n",
    "rank1_tensor = tf.Variable([1,2,3], tf.float64)\n",
    "rank2_tensor = tf.Variable([[1,2,3], [4,5,6]])"
   ]
  },
  {
   "cell_type": "code",
   "execution_count": null,
   "id": "a45ff296-491a-4390-aad1-0eb7d47fb05c",
   "metadata": {},
   "outputs": [],
   "source": [
    "#Get rank of tensor\n",
    "tf.rank(rank1_tensor)\n",
    "\n",
    "#Get shape of tensor\n",
    "tf.shape(rank1_tensor)"
   ]
  },
  {
   "cell_type": "code",
   "execution_count": null,
   "id": "c210b1c3-1abd-4ee7-9480-1622dbdec53d",
   "metadata": {},
   "outputs": [],
   "source": [
    "#Reshape tensors\n",
    "\n",
    "#Will set shape with all 1\n",
    "oneTensor = tf.ones([1,2])\n",
    "print(oneTensor)\n",
    "\n",
    " "
   ]
  },
  {
   "cell_type": "code",
   "execution_count": null,
   "id": "757fce99-867c-44b0-8be9-baccc01f2b2c",
   "metadata": {},
   "outputs": [],
   "source": []
  }
 ],
 "metadata": {
  "kernelspec": {
   "display_name": "Python 3 (ipykernel)",
   "language": "python",
   "name": "python3"
  },
  "language_info": {
   "codemirror_mode": {
    "name": "ipython",
    "version": 3
   },
   "file_extension": ".py",
   "mimetype": "text/x-python",
   "name": "python",
   "nbconvert_exporter": "python",
   "pygments_lexer": "ipython3",
   "version": "3.9.7"
  }
 },
 "nbformat": 4,
 "nbformat_minor": 5
}
